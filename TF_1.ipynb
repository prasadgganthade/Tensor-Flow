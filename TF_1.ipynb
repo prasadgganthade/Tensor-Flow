{
 "cells": [
  {
   "cell_type": "code",
   "execution_count": 1,
   "id": "6a23dff3",
   "metadata": {},
   "outputs": [
    {
     "name": "stdout",
     "output_type": "stream",
     "text": [
      "WARNING:tensorflow:From C:\\Users\\sai\\anaconda3\\lib\\site-packages\\tensorflow\\python\\compat\\v2_compat.py:107: disable_resource_variables (from tensorflow.python.ops.variable_scope) is deprecated and will be removed in a future version.\n",
      "Instructions for updating:\n",
      "non-resource variables are not supported in the long term\n"
     ]
    }
   ],
   "source": [
    "import tensorflow as tf\n",
    "import tensorflow.compat.v1 as tf\n",
    "tf.disable_v2_behavior()"
   ]
  },
  {
   "cell_type": "code",
   "execution_count": 2,
   "id": "ec5f15fc",
   "metadata": {},
   "outputs": [],
   "source": [
    "# Create a variable\n",
    "zero = tf.Variable(0)"
   ]
  },
  {
   "cell_type": "code",
   "execution_count": 3,
   "id": "6a9cc095",
   "metadata": {},
   "outputs": [],
   "source": [
    "# Create a constant\n",
    "one = tf.constant(1)"
   ]
  },
  {
   "cell_type": "code",
   "execution_count": 4,
   "id": "6255d3e3",
   "metadata": {},
   "outputs": [],
   "source": [
    "new_value = tf.add(zero,one)"
   ]
  },
  {
   "cell_type": "code",
   "execution_count": 6,
   "id": "4e38965e",
   "metadata": {},
   "outputs": [],
   "source": [
    "# Variable can be changed\n",
    "update = tf.assign(zero,new_value)"
   ]
  },
  {
   "cell_type": "code",
   "execution_count": 7,
   "id": "25ef2dfa",
   "metadata": {},
   "outputs": [],
   "source": [
    "# Create a session\n",
    "sess = tf.Session()"
   ]
  },
  {
   "cell_type": "code",
   "execution_count": 8,
   "id": "73b19b2e",
   "metadata": {},
   "outputs": [],
   "source": [
    "init_op = tf.global_variables_initializer()"
   ]
  },
  {
   "cell_type": "code",
   "execution_count": 9,
   "id": "3b711dae",
   "metadata": {},
   "outputs": [],
   "source": [
    "sess.run(init_op)"
   ]
  },
  {
   "cell_type": "code",
   "execution_count": 10,
   "id": "e447c54e",
   "metadata": {},
   "outputs": [
    {
     "data": {
      "text/plain": [
       "1"
      ]
     },
     "execution_count": 10,
     "metadata": {},
     "output_type": "execute_result"
    }
   ],
   "source": [
    "sess.run(update)"
   ]
  },
  {
   "cell_type": "code",
   "execution_count": 12,
   "id": "573d8a2e",
   "metadata": {},
   "outputs": [
    {
     "name": "stdout",
     "output_type": "stream",
     "text": [
      "2\n",
      "3\n",
      "4\n",
      "5\n",
      "6\n"
     ]
    }
   ],
   "source": [
    "# for loop\n",
    "for i in range(5):\n",
    "    sess.run(update)\n",
    "    print(sess.run(zero))"
   ]
  },
  {
   "cell_type": "code",
   "execution_count": 15,
   "id": "614b6c4c",
   "metadata": {},
   "outputs": [],
   "source": [
    "z = tf.Variable(0)\n",
    "z1 = tf.assign(z,zero)"
   ]
  },
  {
   "cell_type": "code",
   "execution_count": 19,
   "id": "58899e4e",
   "metadata": {},
   "outputs": [
    {
     "name": "stdout",
     "output_type": "stream",
     "text": [
      "6\n",
      "6\n",
      "6\n",
      "6\n",
      "6\n",
      "6\n",
      "6\n",
      "6\n",
      "6\n",
      "6\n"
     ]
    }
   ],
   "source": [
    "for _ in range(10):\n",
    "    sess.run(z1)\n",
    "    print(sess.run(z1))"
   ]
  },
  {
   "cell_type": "code",
   "execution_count": 20,
   "id": "cbfa6234",
   "metadata": {},
   "outputs": [
    {
     "name": "stdout",
     "output_type": "stream",
     "text": [
      "6\n",
      "6\n",
      "6\n",
      "6\n",
      "6\n",
      "6\n",
      "6\n",
      "6\n",
      "6\n",
      "6\n"
     ]
    }
   ],
   "source": [
    "for _ in range(10):\n",
    "    sess.run(z)\n",
    "    print(sess.run(z))"
   ]
  },
  {
   "cell_type": "markdown",
   "id": "05c857bf",
   "metadata": {},
   "source": [
    "## String"
   ]
  },
  {
   "cell_type": "code",
   "execution_count": 21,
   "id": "efabab96",
   "metadata": {},
   "outputs": [],
   "source": [
    "hello = tf.constant(\"Hello\")"
   ]
  },
  {
   "cell_type": "code",
   "execution_count": 22,
   "id": "babaf9c2",
   "metadata": {},
   "outputs": [],
   "source": [
    "world = tf.constant('World')"
   ]
  },
  {
   "cell_type": "code",
   "execution_count": 24,
   "id": "3e7a7d36",
   "metadata": {},
   "outputs": [],
   "source": [
    "hw = tf.add(hello,world)"
   ]
  },
  {
   "cell_type": "code",
   "execution_count": 25,
   "id": "57571eeb",
   "metadata": {},
   "outputs": [
    {
     "name": "stdout",
     "output_type": "stream",
     "text": [
      "b'HelloWorld'\n"
     ]
    }
   ],
   "source": [
    "print(sess.run(hw))"
   ]
  },
  {
   "cell_type": "code",
   "execution_count": 26,
   "id": "bafdee4b",
   "metadata": {},
   "outputs": [],
   "source": [
    "fname = tf.constant('John')"
   ]
  },
  {
   "cell_type": "code",
   "execution_count": 27,
   "id": "50956d25",
   "metadata": {},
   "outputs": [],
   "source": [
    "lname = tf.constant(\"Lobo\")"
   ]
  },
  {
   "cell_type": "code",
   "execution_count": 28,
   "id": "3dd9b73d",
   "metadata": {},
   "outputs": [],
   "source": [
    "full_name = tf.add(fname,lname)"
   ]
  },
  {
   "cell_type": "code",
   "execution_count": 29,
   "id": "fcd8095c",
   "metadata": {},
   "outputs": [
    {
     "data": {
      "text/plain": [
       "b'JohnLobo'"
      ]
     },
     "execution_count": 29,
     "metadata": {},
     "output_type": "execute_result"
    }
   ],
   "source": [
    "sess.run(full_name)"
   ]
  },
  {
   "cell_type": "markdown",
   "id": "144d82ec",
   "metadata": {},
   "source": [
    "## Placeholder"
   ]
  },
  {
   "cell_type": "code",
   "execution_count": 30,
   "id": "fdc3330e",
   "metadata": {},
   "outputs": [],
   "source": [
    "a = tf.placeholder(tf.float32)"
   ]
  },
  {
   "cell_type": "code",
   "execution_count": 31,
   "id": "e24dd5f9",
   "metadata": {},
   "outputs": [],
   "source": [
    "b = a * 3"
   ]
  },
  {
   "cell_type": "code",
   "execution_count": 32,
   "id": "25a26daa",
   "metadata": {},
   "outputs": [],
   "source": [
    "# Feeding the a value\n",
    "result = sess.run(b,feed_dict={a:2})"
   ]
  },
  {
   "cell_type": "code",
   "execution_count": 33,
   "id": "52cc609c",
   "metadata": {},
   "outputs": [
    {
     "name": "stdout",
     "output_type": "stream",
     "text": [
      "6.0\n"
     ]
    }
   ],
   "source": [
    "print(result)"
   ]
  },
  {
   "cell_type": "code",
   "execution_count": 34,
   "id": "2de1d17a",
   "metadata": {},
   "outputs": [],
   "source": [
    "result = sess.run(b,feed_dict={a:[3,4,5]})"
   ]
  },
  {
   "cell_type": "code",
   "execution_count": 35,
   "id": "734dcfb7",
   "metadata": {},
   "outputs": [
    {
     "name": "stdout",
     "output_type": "stream",
     "text": [
      "[ 9. 12. 15.]\n"
     ]
    }
   ],
   "source": [
    "print(result)"
   ]
  },
  {
   "cell_type": "code",
   "execution_count": 36,
   "id": "0b6251ba",
   "metadata": {},
   "outputs": [
    {
     "name": "stdout",
     "output_type": "stream",
     "text": [
      "15.0\n"
     ]
    }
   ],
   "source": [
    "# Placeholder as a single\n",
    "result = sess.run(b,feed_dict={a:5})\n",
    "print(result)"
   ]
  },
  {
   "cell_type": "code",
   "execution_count": 37,
   "id": "287bf834",
   "metadata": {},
   "outputs": [
    {
     "name": "stdout",
     "output_type": "stream",
     "text": [
      "[ 9. 18. 27.]\n"
     ]
    }
   ],
   "source": [
    "# Placeholder as 2d \n",
    "result = sess.run(b,feed_dict={a:[3,6,9]})\n",
    "print(result)"
   ]
  },
  {
   "cell_type": "code",
   "execution_count": 38,
   "id": "5597431b",
   "metadata": {},
   "outputs": [
    {
     "name": "stdout",
     "output_type": "stream",
     "text": [
      "[[[ 3.  6.  9.]\n",
      "  [12. 15. 18.]\n",
      "  [21. 24. 27.]\n",
      "  [30. 33. 36.]]\n",
      "\n",
      " [[39. 42. 45.]\n",
      "  [48. 51. 54.]\n",
      "  [57. 60. 63.]\n",
      "  [66. 69. 72.]]]\n"
     ]
    }
   ],
   "source": [
    "# Place holder as multidimensinal\n",
    "dict1 = {a:[[[1,2,3],[4,5,6],[7,8,9],[10,11,12]],[[13,14,15],[16,17,18],[19,20,21],[22,23,24]]]}\n",
    "\n",
    "result = sess.run(b,feed_dict=dict1)\n",
    "print(result)"
   ]
  },
  {
   "cell_type": "code",
   "execution_count": 39,
   "id": "b7780a30",
   "metadata": {},
   "outputs": [
    {
     "data": {
      "text/plain": [
       "(2, 4, 3)"
      ]
     },
     "execution_count": 39,
     "metadata": {},
     "output_type": "execute_result"
    }
   ],
   "source": [
    "result.shape"
   ]
  },
  {
   "cell_type": "code",
   "execution_count": 40,
   "id": "a0faccc8",
   "metadata": {},
   "outputs": [],
   "source": [
    "sess.close()"
   ]
  },
  {
   "cell_type": "code",
   "execution_count": 41,
   "id": "b4f5b41f",
   "metadata": {},
   "outputs": [],
   "source": [
    "# another type of code to run session"
   ]
  },
  {
   "cell_type": "code",
   "execution_count": 43,
   "id": "75fa1030",
   "metadata": {},
   "outputs": [
    {
     "name": "stdout",
     "output_type": "stream",
     "text": [
      "b'JohnLobo'\n"
     ]
    }
   ],
   "source": [
    "with tf.Session() as sess:\n",
    "    new = sess.run(full_name)\n",
    "    print(new)"
   ]
  },
  {
   "cell_type": "code",
   "execution_count": null,
   "id": "b8a0f494",
   "metadata": {},
   "outputs": [],
   "source": []
  }
 ],
 "metadata": {
  "kernelspec": {
   "display_name": "Python 3 (ipykernel)",
   "language": "python",
   "name": "python3"
  },
  "language_info": {
   "codemirror_mode": {
    "name": "ipython",
    "version": 3
   },
   "file_extension": ".py",
   "mimetype": "text/x-python",
   "name": "python",
   "nbconvert_exporter": "python",
   "pygments_lexer": "ipython3",
   "version": "3.9.13"
  }
 },
 "nbformat": 4,
 "nbformat_minor": 5
}
